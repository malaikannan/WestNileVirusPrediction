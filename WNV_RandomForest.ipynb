{
 "cells": [
  {
   "cell_type": "code",
   "execution_count": 23,
   "metadata": {
    "collapsed": false,
    "scrolled": true
   },
   "outputs": [],
   "source": [
    "import sys\n",
    "import pandas as pd\n",
    "import numpy as np\n",
    "import scipy as sp\n",
    "import matplotlib as matplt\n",
    "%matplotlib inline"
   ]
  },
  {
   "cell_type": "code",
   "execution_count": 24,
   "metadata": {
    "collapsed": false
   },
   "outputs": [],
   "source": [
    "#setting rootdirectory path \n",
    "rootdir = '/usr/bin/MachineLearning/WestNileVirusPrediction/'\n",
    "#reading training.csv into train_dataframe\n",
    "train_dataframe = pd.read_csv(rootdir+\"train.csv\")\n",
    "\n",
    "#Bringing Target WnvPresent Column as 1st column in the dataframe\n",
    "train_columns = train_dataframe.columns.tolist()\n",
    "train_columns = train_columns[-1:] + train_columns[:-1]\n",
    "train_dataframe = train_dataframe[train_columns]\n",
    "\n",
    "\n",
    "\n",
    "#reading test.csv into train_dataframe\n",
    "test_dataframe = pd.read_csv(rootdir+\"test.csv\")\n",
    "\n"
   ]
  },
  {
   "cell_type": "code",
   "execution_count": 25,
   "metadata": {
    "collapsed": false
   },
   "outputs": [
    {
     "data": {
      "text/plain": [
       "WnvPresent                  int64\n",
       "Date                       object\n",
       "Address                    object\n",
       "Species                    object\n",
       "Block                       int64\n",
       "Street                     object\n",
       "Trap                       object\n",
       "AddressNumberAndStreet     object\n",
       "Latitude                  float64\n",
       "Longitude                 float64\n",
       "AddressAccuracy             int64\n",
       "NumMosquitos                int64\n",
       "dtype: object"
      ]
     },
     "execution_count": 25,
     "metadata": {},
     "output_type": "execute_result"
    }
   ],
   "source": [
    "train_dataframe.dtypes"
   ]
  },
  {
   "cell_type": "code",
   "execution_count": 26,
   "metadata": {
    "collapsed": false,
    "scrolled": false
   },
   "outputs": [
    {
     "data": {
      "text/plain": [
       "Id                          int64\n",
       "Date                       object\n",
       "Address                    object\n",
       "Species                    object\n",
       "Block                       int64\n",
       "Street                     object\n",
       "Trap                       object\n",
       "AddressNumberAndStreet     object\n",
       "Latitude                  float64\n",
       "Longitude                 float64\n",
       "AddressAccuracy             int64\n",
       "dtype: object"
      ]
     },
     "execution_count": 26,
     "metadata": {},
     "output_type": "execute_result"
    }
   ],
   "source": [
    "test_dataframe.dtypes"
   ]
  },
  {
   "cell_type": "code",
   "execution_count": 27,
   "metadata": {
    "collapsed": false,
    "scrolled": true
   },
   "outputs": [],
   "source": [
    "#dropping un-necessary columns from training and test dataframe\n",
    "train_dataframe = train_dataframe.drop(['Date','Address','Block','AddressNumberAndStreet','AddressAccuracy', 'NumMosquitos' ],1)\n",
    "test_dataframe = test_dataframe.drop(['Id','Date','Address','Block','AddressNumberAndStreet','AddressAccuracy'],1)\n"
   ]
  },
  {
   "cell_type": "code",
   "execution_count": 28,
   "metadata": {
    "collapsed": false
   },
   "outputs": [
    {
     "data": {
      "text/plain": [
       "array(['CULEX PIPIENS/RESTUANS', 'CULEX RESTUANS', 'CULEX PIPIENS',\n",
       "       'CULEX SALINARIUS', 'CULEX TERRITANS', 'CULEX TARSALIS',\n",
       "       'CULEX ERRATICUS'], dtype=object)"
      ]
     },
     "execution_count": 28,
     "metadata": {},
     "output_type": "execute_result"
    }
   ],
   "source": [
    "train_dataframe[\"Species\"].unique()"
   ]
  },
  {
   "cell_type": "code",
   "execution_count": 29,
   "metadata": {
    "collapsed": false
   },
   "outputs": [
    {
     "data": {
      "text/plain": [
       "array(['CULEX PIPIENS/RESTUANS', 'CULEX RESTUANS', 'CULEX PIPIENS',\n",
       "       'CULEX SALINARIUS', 'CULEX TERRITANS', 'CULEX TARSALIS',\n",
       "       'UNSPECIFIED CULEX', 'CULEX ERRATICUS'], dtype=object)"
      ]
     },
     "execution_count": 29,
     "metadata": {},
     "output_type": "execute_result"
    }
   ],
   "source": [
    "test_dataframe[\"Species\"].unique()"
   ]
  },
  {
   "cell_type": "code",
   "execution_count": 30,
   "metadata": {
    "collapsed": false
   },
   "outputs": [],
   "source": [
    "#test_dataframe.ix[test_dataframe[\"Species\"]=='UNSPECIFIED CULEX'].Species = 'CULEX ERRATICUS'\n",
    "test_dataframe.loc[test_dataframe.Species=='UNSPECIFIED CULEX','Species'] = 'CULEX ERRATICUS'"
   ]
  },
  {
   "cell_type": "code",
   "execution_count": 31,
   "metadata": {
    "collapsed": false
   },
   "outputs": [
    {
     "data": {
      "text/html": [
       "<div style=\"max-height:1000px;max-width:1500px;overflow:auto;\">\n",
       "<table border=\"1\" class=\"dataframe\">\n",
       "  <thead>\n",
       "    <tr style=\"text-align: right;\">\n",
       "      <th></th>\n",
       "      <th>Species</th>\n",
       "      <th>Street</th>\n",
       "      <th>Trap</th>\n",
       "      <th>Latitude</th>\n",
       "      <th>Longitude</th>\n",
       "    </tr>\n",
       "  </thead>\n",
       "  <tbody>\n",
       "  </tbody>\n",
       "</table>\n",
       "</div>"
      ],
      "text/plain": [
       "Empty DataFrame\n",
       "Columns: [Species, Street, Trap, Latitude, Longitude]\n",
       "Index: []"
      ]
     },
     "execution_count": 31,
     "metadata": {},
     "output_type": "execute_result"
    }
   ],
   "source": [
    "test_dataframe[test_dataframe[\"Species\"]=='UNSPECIFIED CULEX'] "
   ]
  },
  {
   "cell_type": "code",
   "execution_count": 33,
   "metadata": {
    "collapsed": false,
    "scrolled": true
   },
   "outputs": [],
   "source": [
    "#Converting TrainFrame categorical variables to dummy variables\n",
    "train_Street_dummies = pd.get_dummies(train_dataframe['Street'], prefix='Street')\n",
    "train_Street_dummies = train_Street_dummies.drop(train_Street_dummies.columns[0],axis = 1)\n",
    "train_dataframe= train_dataframe.drop('Street',1)\n",
    "train_dataframe = train_dataframe.join(train_Street_dummies.ix[:,:])\n",
    "\n",
    "train_Trap_dummies = pd.get_dummies(train_dataframe['Trap'], prefix='Trap')\n",
    "train_Trap_dummies = train_Trap_dummies.drop(train_Trap_dummies.columns[0],axis = 1)\n",
    "train_dataframe= train_dataframe.drop('Trap',1)\n",
    "train_dataframe = train_dataframe.join(train_Trap_dummies.ix[:,:])\n",
    "\n",
    "train_Species_dummies = pd.get_dummies(train_dataframe['Species'], prefix='Species')\n",
    "train_Species_dummies = train_Species_dummies.drop(train_Species_dummies.columns[0],axis = 1)\n",
    "train_dataframe= train_dataframe.drop('Species',1)\n",
    "train_dataframe = train_dataframe.join(train_Species_dummies.ix[:,:])\n",
    "\n",
    "\n",
    "\n",
    " \n",
    "\n",
    "\n"
   ]
  },
  {
   "cell_type": "code",
   "execution_count": 34,
   "metadata": {
    "collapsed": false,
    "scrolled": true
   },
   "outputs": [],
   "source": [
    "#Converting TestFrame categorical variables to dummy variables\n",
    "test_Street_dummies = pd.get_dummies(test_dataframe['Street'], prefix='Street')\n",
    "test_Street_dummies = test_Street_dummies.drop(test_Street_dummies.columns[0],axis = 1)\n",
    "test_dataframe= test_dataframe.drop('Street',1)\n",
    "test_dataframe = test_dataframe.join(test_Street_dummies.ix[:,:])\n",
    "\n",
    "test_Trap_dummies = pd.get_dummies(test_dataframe['Trap'], prefix='Trap')\n",
    "test_Trap_dummies = test_Trap_dummies.drop(test_Trap_dummies.columns[0],axis = 1)\n",
    "test_dataframe= test_dataframe.drop('Trap',1)\n",
    "test_dataframe = test_dataframe.join(test_Trap_dummies.ix[:,:])\n",
    "\n",
    "test_Species_dummies = pd.get_dummies(test_dataframe['Species'], prefix='Species')\n",
    "test_Species_dummies = test_Species_dummies.drop(test_Species_dummies.columns[0],axis = 1)\n",
    "test_dataframe= test_dataframe.drop('Species',1)\n",
    "test_dataframe = test_dataframe.join(test_Species_dummies.ix[:,:])\n",
    "\n",
    "\n"
   ]
  },
  {
   "cell_type": "code",
   "execution_count": 40,
   "metadata": {
    "collapsed": false
   },
   "outputs": [],
   "source": [
    "train_column_names_set = set(list(train_dataframe.columns.values))\n",
    "test_column_names_set = set(list(test_dataframe.columns.values))\n",
    "\n",
    "train_columns_notin_test = train_column_names_set - test_column_names_set\n",
    "test_columns_notin_train = test_column_names_set - train_column_names_set\n"
   ]
  },
  {
   "cell_type": "code",
   "execution_count": 41,
   "metadata": {
    "collapsed": false,
    "scrolled": true
   },
   "outputs": [
    {
     "data": {
      "text/plain": [
       "set()"
      ]
     },
     "execution_count": 41,
     "metadata": {},
     "output_type": "execute_result"
    }
   ],
   "source": [
    "test_columns_notin_train"
   ]
  },
  {
   "cell_type": "code",
   "execution_count": 37,
   "metadata": {
    "collapsed": true
   },
   "outputs": [],
   "source": [
    "train_dataframe['Street_ E 136TH ST'] = 0\n",
    "train_dataframe['Street_ N KENNETH AVE']= 0\n",
    "train_dataframe['Street_ N KILBOURN AVE'] = 0\n",
    "train_dataframe['Street_ N MELVINA AVE'] = 0\n",
    "train_dataframe['Street_ S BALTIMORE AVE'] = 0\n",
    "train_dataframe['Street_ S LOOMIS ST'] = 0\n",
    "train_dataframe['Street_ S OGLESBY AVE'] = 0\n",
    "train_dataframe['Street_ W 112TH ST'] = 0\n",
    "train_dataframe['Street_ W 120TH ST'] = 0\n",
    "train_dataframe['Street_ W 63RD PL'] = 0\n",
    "train_dataframe['Street_ W DAKIN ST'] = 0\n",
    "train_dataframe['Trap_T002A'] = 0\n",
    "train_dataframe['Trap_T002B'] = 0\n",
    "train_dataframe['Trap_T065A'] = 0\n",
    "train_dataframe['Trap_T090A'] = 0\n",
    "train_dataframe['Trap_T090B'] = 0\n",
    "train_dataframe['Trap_T090C'] = 0\n",
    "train_dataframe['Trap_T128A'] = 0\n",
    "train_dataframe['Trap_T200A'] = 0\n",
    "train_dataframe['Trap_T200B'] = 0\n",
    "train_dataframe['Trap_T218A'] = 0\n",
    "train_dataframe['Trap_T218B'] = 0\n",
    "train_dataframe['Trap_T218C'] = 0\n",
    "train_dataframe['Trap_T234']=0"
   ]
  },
  {
   "cell_type": "code",
   "execution_count": 42,
   "metadata": {
    "collapsed": false
   },
   "outputs": [],
   "source": [
    "train_array = train_dataframe.values\n",
    "test_array = test_dataframe.values"
   ]
  },
  {
   "cell_type": "code",
   "execution_count": 43,
   "metadata": {
    "collapsed": false,
    "scrolled": false
   },
   "outputs": [
    {
     "data": {
      "text/plain": [
       "RandomForestClassifier(bootstrap=True, class_weight=None, criterion='gini',\n",
       "            max_depth=None, max_features='auto', max_leaf_nodes=None,\n",
       "            min_samples_leaf=1, min_samples_split=2,\n",
       "            min_weight_fraction_leaf=0.0, n_estimators=10, n_jobs=-1,\n",
       "            oob_score=False, random_state=None, verbose=0,\n",
       "            warm_start=False)"
      ]
     },
     "execution_count": 43,
     "metadata": {},
     "output_type": "execute_result"
    }
   ],
   "source": [
    "from sklearn import ensemble\n",
    "import numpy\n",
    "clf_et=ensemble.RandomForestClassifier(n_estimators=10,n_jobs=-1)\n",
    "clf_et.fit(train_array[0::,1::],train_array[0::,0::])"
   ]
  },
  {
   "cell_type": "code",
   "execution_count": 44,
   "metadata": {
    "collapsed": false
   },
   "outputs": [
    {
     "data": {
      "text/plain": [
       "<matplotlib.axes.AxesSubplot at 0x115289ed0>"
      ]
     },
     "execution_count": 44,
     "metadata": {},
     "output_type": "execute_result"
    },
    {
     "data": {
      "image/png": "[encoded data removed]",
      "text/plain": [
       "<matplotlib.figure.Figure at 0x115289cd0>"
      ]
     },
     "metadata": {},
     "output_type": "display_data"
    }
   ],
   "source": [
    "feature_importance_list = list(zip(clf_et.feature_importances_,list(train_array)))\n",
    "feature_importance_frame = pd.DataFrame(feature_importance_list,columns=['Value','ColumnName'])\n",
    "\n",
    "feature_importance_frame.sort(columns='Value',ascending=False)\n",
    "feature_importance_frame.head(20).plot(kind='bar')\n",
    "\n"
   ]
  },
  {
   "cell_type": "code",
   "execution_count": null,
   "metadata": {
    "collapsed": false
   },
   "outputs": [],
   "source": [
    "test_predict = clf_et.predict(test_array)\n",
    "\n"
   ]
  },
  {
   "cell_type": "code",
   "execution_count": null,
   "metadata": {
    "collapsed": true
   },
   "outputs": [],
   "source": []
  }
 ],
 "metadata": {
  "kernelspec": {
   "display_name": "Python 2",
   "language": "python",
   "name": "python2"
  },
  "language_info": {
   "codemirror_mode": {
    "name": "ipython",
    "version": 2
   },
   "file_extension": ".py",
   "mimetype": "text/x-python",
   "name": "python",
   "nbconvert_exporter": "python",
   "pygments_lexer": "ipython2",
   "version": "2.7.6"
  }
 },
 "nbformat": 4,
 "nbformat_minor": 0
}
